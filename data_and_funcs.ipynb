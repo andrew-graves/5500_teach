{
 "cells": [
  {
   "cell_type": "markdown",
   "metadata": {},
   "source": [
    "# Analyzing Neural Time Series Data: Data extraction from MATLAB matrix\n",
    "\n",
    "#### Andrew J. Graves on 12/03/19"
   ]
  },
  {
   "cell_type": "markdown",
   "metadata": {},
   "source": [
    "### Get the data"
   ]
  },
  {
   "cell_type": "code",
   "execution_count": null,
   "metadata": {},
   "outputs": [],
   "source": [
    "# Import modules\n",
    "from scipy import io\n",
    "import numpy as np\n",
    "import mne\n",
    "\n",
    "# Load Sample MATLAB/EEGLAB object from current directory\n",
    "EEG = io.loadmat('sampleEEGdata.mat')['EEG']\n",
    "\n",
    "# Get the data and reshape data from 3D (chan x time x trial) to 2D (chan x (time x trial))\n",
    "three_d = EEG['data'].item()\n",
    "two_d = three_d.reshape(three_d.shape[0], (three_d.shape[1]*three_d.shape[2]))\n",
    "\n",
    "# Extract sampling rate, channel names, channel types, and time\n",
    "samp_rate = EEG['srate'].item()\n",
    "chan_names = sum(np.concatenate(EEG['chanlocs'].item()['labels'].tolist()).tolist(), [])\n",
    "chan_types = ['eeg'] * len(chan_names)\n",
    "eeg_time = EEG['times'].item()[0]\n",
    "\n",
    "# Create an MNE info object and combine 2D data with info for an MNE raw object\n",
    "info = mne.create_info(ch_names=chan_names, sfreq=samp_rate, ch_types=chan_types)\n",
    "raw = mne.io.RawArray(two_d, info, verbose=False)"
   ]
  },
  {
   "cell_type": "markdown",
   "metadata": {},
   "source": [
    "### Get useful functions"
   ]
  },
  {
   "cell_type": "code",
   "execution_count": null,
   "metadata": {},
   "outputs": [],
   "source": [
    "# ERP\n",
    "def get_erp(three_d, chan_index):\n",
    "    return np.squeeze(np.mean(three_d[chan_index, :, :], 2))\n",
    "\n",
    "# Low-pass filter for ERPs\n",
    "def low_pass_erp(erp, filter_cutoff, trans_width, nyq):\n",
    "    f_freqs = np.array([0, filter_cutoff, filter_cutoff * (1 + trans_width), nyq]) / nyq\n",
    "    ideal_resp = np.array([1, 1, 0, 0])\n",
    "    filter_weights = sp.firls(101, f_freqs, ideal_resp)\n",
    "    return sp.filtfilt(filter_weights, 1, erp)\n",
    "\n",
    "# Band-pass filter for ERPs\n",
    "def band_pass_erp(erp, filter_low, filter_high, trans_width, nyq):\n",
    "    f_freqs = np.array([0, filter_low * (1 - trans_width), filter_low, \n",
    "                        filter_high, filter_high * (1 + trans_width), nyq]) / nyq\n",
    "    ideal_resp = np.array([0, 0, 1, 1, 0, 0])\n",
    "    filter_weights = sp.firls(round(3 * (samp_rate.item() / filter_low) + 1), f_freqs, ideal_resp)\n",
    "    return sp.filtfilt(filter_weights, 1, erp)"
   ]
  }
 ],
 "metadata": {
  "kernelspec": {
   "display_name": "Python 3",
   "language": "python",
   "name": "python3"
  },
  "language_info": {
   "codemirror_mode": {
    "name": "ipython",
    "version": 3
   },
   "file_extension": ".py",
   "mimetype": "text/x-python",
   "name": "python",
   "nbconvert_exporter": "python",
   "pygments_lexer": "ipython3",
   "version": "3.7.4"
  }
 },
 "nbformat": 4,
 "nbformat_minor": 2
}
