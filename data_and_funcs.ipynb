{
 "cells": [
  {
   "cell_type": "markdown",
   "metadata": {},
   "source": [
    "# Analyzing Neural Time Series Data\n",
    "\n",
    "#### Data extraction from MATLAB matrix as well as some functions written by Andrew J. Graves on 12/03/19"
   ]
  },
  {
   "cell_type": "markdown",
   "metadata": {},
   "source": [
    "### Get the data"
   ]
  },
  {
   "cell_type": "code",
   "execution_count": 14,
   "metadata": {},
   "outputs": [
    {
     "name": "stdout",
     "output_type": "stream",
     "text": [
      "0.19.2\n"
     ]
    }
   ],
   "source": [
    "# Import modules\n",
    "from scipy import io\n",
    "import numpy as np\n",
    "import mne\n",
    "# My version of MNE is 0.19.2- AJG\n",
    "# print(mne.__version__)\n",
    "\n",
    "# Load Sample MATLAB/EEGLAB object from current directory\n",
    "EEG = io.loadmat('sampleEEGdata.mat')['EEG']\n",
    "\n",
    "# Get the data and reshape data from 3D (chan x time x trial) to 2D (chan x (time x trial))\n",
    "eeg_data = EEG['data'].item()\n",
    "two_d = eeg_data.reshape(eeg_data.shape[0], (eeg_data.shape[1]*eeg_data.shape[2]))\n",
    "\n",
    "# Extract sampling rate, channel names, channel types, and time\n",
    "samp_rate = EEG['srate'].item()\n",
    "chan_names = sum(np.concatenate(EEG['chanlocs'].item()['labels'].tolist()).tolist(), [])\n",
    "chan_types = ['eeg'] * len(chan_names)\n",
    "eeg_time = EEG['times'].item()[0]\n",
    "\n",
    "# Create an MNE info object and combine 2D data with info for an MNE raw object\n",
    "mont = mne.channels.make_standard_montage('biosemi64')\n",
    "info = mne.create_info(ch_names=chan_names, sfreq=samp_rate, ch_types=chan_types, montage=mont)\n",
    "raw = mne.io.RawArray(two_d, info, verbose=False)\n",
    "\n",
    "# Extract various features useful for plots\n",
    "epochs = EEG['epoch'].item()[0]\n",
    "chan_theta = EEG['chanlocs'].item()['theta']\n",
    "chan_radius = EEG['chanlocs'].item()['radius'].tolist()"
   ]
  },
  {
   "cell_type": "markdown",
   "metadata": {},
   "source": [
    "The following cells are an attempt to \"modularize\" some of Cohen's codes, by compacting them into re-useable functions. These instantiations of these pre-processing steps are directly translated from Cohen's code, and HAVE NOT been rigorously tested. Despite this, they may be useful. The functions also help me reduce error if I need to perform the same computation multiple times."
   ]
  },
  {
   "cell_type": "markdown",
   "metadata": {},
   "source": [
    "#### Chapter 9"
   ]
  },
  {
   "cell_type": "code",
   "execution_count": 45,
   "metadata": {},
   "outputs": [],
   "source": [
    "# ERP\n",
    "def get_erp(three_d, chan_name):\n",
    "    \"\"\"Returns an event-related potential at a specific channel\n",
    "    \n",
    "    Parameters\n",
    "    ----------\n",
    "    three_d: numpy array\n",
    "        A 3-dimensional EEG data structure (channel x time x trial)\n",
    "    \n",
    "    chan_name: str\n",
    "        The name of the channel to analyze\n",
    "    \n",
    "    Returns\n",
    "    -------\n",
    "    erp: An average voltage averaged across every trial at a specific channel\n",
    "    \"\"\"\n",
    "    chan_index = [index for index, item in enumerate(chan_names) if item == which_chan]\n",
    "    erp = np.squeeze(np.mean(three_d[list(chan_index), :, :], 2))\n",
    "    return(erp)\n",
    "\n",
    "# Low-pass filter for ERPs\n",
    "def low_pass_erp(erp, filter_cutoff, trans_width, nyq):\n",
    "    \"\"\"Returns a low-pass filtered event-related potential\n",
    "    \n",
    "    Parameters\n",
    "    ----------\n",
    "    erp: numpy array\n",
    "        A 1-dimensional event-related potential data structure\n",
    "    \n",
    "    filter_cutoff: int or float\n",
    "        The threshold value for high frequencies to filter out\n",
    "        \n",
    "    trans_width: int or float\n",
    "        The transition width of the filter\n",
    "    \n",
    "    nyq: int or float\n",
    "        The nyquist frequency\n",
    "    \n",
    "    Returns\n",
    "    -------\n",
    "    low_pass: A low-pass filtered event-related potential\n",
    "    \"\"\"\n",
    "    f_freqs = np.array([0, filter_cutoff, filter_cutoff * (1 + trans_width), nyq]) / nyq\n",
    "    ideal_resp = np.array([1, 1, 0, 0])\n",
    "    filter_weights = signal.firls(101, f_freqs, ideal_resp)\n",
    "    low_pass = signal.filtfilt(filter_weights, 1, erp)\n",
    "    return(low_pass)\n",
    "\n",
    "# Band-pass filter for ERPs\n",
    "def band_pass_erp(erp, filter_low, filter_high, trans_width, nyq):\n",
    "    \"\"\"Returns a band-pass filtered event-related potential\n",
    "    \n",
    "    Parameters\n",
    "    ----------\n",
    "    erp: numpy array\n",
    "        A 1-dimensional event-related potential data structure\n",
    "    \n",
    "    filter_low: int or float\n",
    "        The threshold value for low frequencies to filter out\n",
    "        \n",
    "    filter_high: int or float\n",
    "        The threshold value for high frequencies to filter out\n",
    "        \n",
    "    trans_width: int or float\n",
    "        The transition width of the filter\n",
    "    \n",
    "    nyq: int or float\n",
    "        The nyquist frequency\n",
    "    \n",
    "    Returns\n",
    "    -------\n",
    "    band_pass: A band-pass filtered event-related potential\n",
    "    \"\"\"\n",
    "    f_freqs = np.array([0, filter_low * (1 - trans_width), filter_low, \n",
    "                        filter_high, filter_high * (1 + trans_width), nyq]) / nyq\n",
    "    ideal_resp = np.array([0, 0, 1, 1, 0, 0])\n",
    "    filter_weights = signal.firls(round(3 * (samp_rate.item() / filter_low) + 1), f_freqs, ideal_resp)\n",
    "    band_pass = signal.filtfilt(filter_weights, 1, erp)\n",
    "    return(band_pass)"
   ]
  },
  {
   "cell_type": "markdown",
   "metadata": {},
   "source": [
    "#### Chapter 11"
   ]
  },
  {
   "cell_type": "code",
   "execution_count": null,
   "metadata": {},
   "outputs": [],
   "source": [
    "# Generate a sine wave\n",
    "def get_sine_wave(frequency, amplitude, time_vec, phase=0):\n",
    "    \"\"\"Returns a simulated sine wave\n",
    "    \n",
    "    Parameters\n",
    "    ----------\n",
    "    frequency: int or float\n",
    "        Frequency of the sine wave\n",
    "    \n",
    "    amplitude: int or float\n",
    "        Amplitude of the sine wave\n",
    "        \n",
    "    time_vec: numpy array\n",
    "        A 1-dimensional array for the time axis of the sine wave\n",
    "        \n",
    "    phase: int or float\n",
    "        The phase angle offset of the sine wave. Defaults to 0\n",
    "    \n",
    "    Returns\n",
    "    -------\n",
    "    sine-wave: The simulated sine wave\n",
    "    \"\"\"\n",
    "    sine_wave = amplitude * np.sin(2 * np.pi * frequency * time_vec + phase)\n",
    "    return sine_wave\n",
    "\n",
    "# Compute power with numpy fourier transform\n",
    "def compute_power(signal, srate):\n",
    "    \"\"\"Compute power with numpy fourier transform. Note that Cohen multiplied the series by 2 in the code \n",
    "       rather than squaring it for some reason. AFAIK squaring is appropriate, which is why the magnitudes \n",
    "       of my frequencies are larger\n",
    "    \n",
    "    Parameters\n",
    "    ----------\n",
    "    signal: numpy array\n",
    "        A 1-dimensional signal array\n",
    "    \n",
    "    srate: int or float\n",
    "        The sampling rate of the signal\n",
    "    \n",
    "    Returns\n",
    "    -------\n",
    "    power: The power at particular frequencies\n",
    "    frequencies: The frequency index for each power entry\n",
    "    \"\"\"\n",
    "    frequencies = np.linspace(0, int(srate / 2), int(len(signal) / 2) + 1)\n",
    "    fft_sig = np.fft.fft(signal) / len(signal)\n",
    "    power = np.abs(fft_sig[0:len(frequencies)]) ** 2\n",
    "    return power, frequencies\n",
    "\n",
    "# Compute phase with numpy fourier transform\n",
    "def compute_phase(signal, srate):\n",
    "    \"\"\"Compute phase with numpy fourier transform.\n",
    "    \n",
    "    Parameters\n",
    "    ----------\n",
    "    signal: numpy array\n",
    "        A 1-dimensional signal array\n",
    "    \n",
    "    srate: int or float\n",
    "        The sampling rate of the signal\n",
    "    \n",
    "    Returns\n",
    "    -------\n",
    "    phase: The phase at particular frequencies\n",
    "    frequencies: The frequency index for each phase entry\n",
    "    \"\"\"\n",
    "    frequencies = np.linspace(0, int(srate / 2), int(len(signal) / 2) + 1)\n",
    "    fft_sig = np.fft.fft(signal) / len(signal)\n",
    "    phase = np.angle(fft_sig[0:len(frequencies)], deg=False)\n",
    "    return phase, frequencies"
   ]
  },
  {
   "cell_type": "markdown",
   "metadata": {},
   "source": [
    "#### Might be useful later..."
   ]
  },
  {
   "cell_type": "code",
   "execution_count": null,
   "metadata": {},
   "outputs": [],
   "source": [
    "# Convert from Polar to Cartesian coordinates\n",
    "def pol_to_cart(phi, rho):\n",
    "    x = rho * np.cos(phi)\n",
    "    y = rho * np.sin(phi)\n",
    "    return x, y"
   ]
  }
 ],
 "metadata": {
  "kernelspec": {
   "display_name": "Python 3",
   "language": "python",
   "name": "python3"
  },
  "language_info": {
   "codemirror_mode": {
    "name": "ipython",
    "version": 3
   },
   "file_extension": ".py",
   "mimetype": "text/x-python",
   "name": "python",
   "nbconvert_exporter": "python",
   "pygments_lexer": "ipython3",
   "version": "3.7.4"
  }
 },
 "nbformat": 4,
 "nbformat_minor": 2
}
