{
 "cells": [
  {
   "cell_type": "markdown",
   "metadata": {},
   "source": [
    "# Analyzing Neural Time Series Data\n",
    "\n",
    "#### Data extraction from MATLAB matrix as well as some functions written by Andrew J. Graves on 12/03/19"
   ]
  },
  {
   "cell_type": "markdown",
   "metadata": {},
   "source": [
    "### Get the data"
   ]
  },
  {
   "cell_type": "code",
   "execution_count": 32,
   "metadata": {},
   "outputs": [],
   "source": [
    "# Import modules\n",
    "from scipy import io\n",
    "import numpy as np\n",
    "import mne\n",
    "\n",
    "# Load Sample MATLAB/EEGLAB object from current directory\n",
    "EEG = io.loadmat('sampleEEGdata.mat')['EEG']\n",
    "\n",
    "# Get the data and reshape data from 3D (chan x time x trial) to 2D (chan x (time x trial))\n",
    "eeg_data = EEG['data'].item()\n",
    "two_d = eeg_data.reshape(eeg_data.shape[0], (eeg_data.shape[1]*eeg_data.shape[2]))\n",
    "\n",
    "# Extract sampling rate, channel names, channel types, and time\n",
    "samp_rate = EEG['srate'].item()\n",
    "chan_names = sum(np.concatenate(EEG['chanlocs'].item()['labels'].tolist()).tolist(), [])\n",
    "chan_types = ['eeg'] * len(chan_names)\n",
    "eeg_time = EEG['times'].item()[0]\n",
    "\n",
    "# Create an MNE info object and combine 2D data with info for an MNE raw object\n",
    "mont = mne.channels.make_standard_montage('biosemi64')\n",
    "info = mne.create_info(ch_names=chan_names, sfreq=samp_rate, ch_types=chan_types, montage=mont)\n",
    "raw = mne.io.RawArray(two_d, info, verbose=False)"
   ]
  },
  {
   "cell_type": "markdown",
   "metadata": {},
   "source": [
    "### Get useful functions"
   ]
  },
  {
   "cell_type": "code",
   "execution_count": 3,
   "metadata": {},
   "outputs": [],
   "source": [
    "# ERP\n",
    "def get_erp(three_d, chan_index):\n",
    "    return np.squeeze(np.mean(three_d[chan_index, :, :], 2))\n",
    "\n",
    "# Low-pass filter for ERPs\n",
    "def low_pass_erp(erp, filter_cutoff, trans_width, nyq):\n",
    "    f_freqs = np.array([0, filter_cutoff, filter_cutoff * (1 + trans_width), nyq]) / nyq\n",
    "    ideal_resp = np.array([1, 1, 0, 0])\n",
    "    filter_weights = signal.firls(101, f_freqs, ideal_resp)\n",
    "    return signal.filtfilt(filter_weights, 1, erp)\n",
    "\n",
    "# Band-pass filter for ERPs\n",
    "def band_pass_erp(erp, filter_low, filter_high, trans_width, nyq):\n",
    "    f_freqs = np.array([0, filter_low * (1 - trans_width), filter_low, \n",
    "                        filter_high, filter_high * (1 + trans_width), nyq]) / nyq\n",
    "    ideal_resp = np.array([0, 0, 1, 1, 0, 0])\n",
    "    filter_weights = signal.firls(round(3 * (samp_rate.item() / filter_low) + 1), f_freqs, ideal_resp)\n",
    "    return signal.filtfilt(filter_weights, 1, erp)\n",
    "\n",
    "# Convert from Polar to Cartesian coordinates\n",
    "def pol_to_cart(phi, rho):\n",
    "    x = rho * np.cos(phi)\n",
    "    y = rho * np.sin(phi)\n",
    "    return(x, y)"
   ]
  }
 ],
 "metadata": {
  "kernelspec": {
   "display_name": "Python 3",
   "language": "python",
   "name": "python3"
  },
  "language_info": {
   "codemirror_mode": {
    "name": "ipython",
    "version": 3
   },
   "file_extension": ".py",
   "mimetype": "text/x-python",
   "name": "python",
   "nbconvert_exporter": "python",
   "pygments_lexer": "ipython3",
   "version": "3.7.4"
  }
 },
 "nbformat": 4,
 "nbformat_minor": 2
}
